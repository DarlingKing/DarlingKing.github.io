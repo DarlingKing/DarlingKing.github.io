{
 "cells": [
  {
   "cell_type": "code",
   "execution_count": null,
   "metadata": {
    "colab": {},
    "colab_type": "code",
    "id": "kckV6xs7VQ2o"
   },
   "outputs": [],
   "source": [
    "import pandas as pd\n",
    "import numpy as np\n",
    "import ast\n",
    "import csv\n",
    "import time\n",
    "import random\n",
    "import seaborn as sns\n",
    "\n",
    "from operator import itemgetter\n",
    "import networkx as nx\n",
    "from networkx.algorithms import community\n",
    "\n",
    "import matplotlib.pyplot as plt"
   ]
  },
  {
   "cell_type": "code",
   "execution_count": null,
   "metadata": {
    "colab": {
     "base_uri": "https://localhost:8080/",
     "height": 122
    },
    "colab_type": "code",
    "id": "hKNoIS4XVTKn",
    "outputId": "a721b9d4-b774-4c4b-e64a-600ead384f58"
   },
   "outputs": [],
   "source": [
    "### from google.colab import drive\n",
    "### drive.mount('/content/drive')"
   ]
  },
  {
   "cell_type": "code",
   "execution_count": null,
   "metadata": {
    "colab": {},
    "colab_type": "code",
    "id": "cQIhMaiqVQ2z"
   },
   "outputs": [],
   "source": [
    "users=np.zeros((40000,1))"
   ]
  },
  {
   "cell_type": "code",
   "execution_count": null,
   "metadata": {
    "colab": {
     "base_uri": "https://localhost:8080/",
     "height": 34
    },
    "colab_type": "code",
    "id": "Q6XDBhl8VQ29",
    "outputId": "6dcf9613-9515-441a-e7df-1c910308be76"
   },
   "outputs": [],
   "source": [
    "users.shape"
   ]
  },
  {
   "cell_type": "code",
   "execution_count": null,
   "metadata": {
    "colab": {},
    "colab_type": "code",
    "id": "STMgGEZNVQ3F"
   },
   "outputs": [],
   "source": [
    "user_friends={}\n",
    "user_tags={}\n",
    "max_friends=0\n",
    "min_friends=200000\n",
    "def hasMoreTags(s):\n",
    "    return s[-1]!=']'"
   ]
  },
  {
   "cell_type": "markdown",
   "metadata": {
    "colab_type": "text",
    "id": "7WwoNJhbQdnc"
   },
   "source": [
    "# Generate User: Tags dict"
   ]
  },
  {
   "cell_type": "code",
   "execution_count": null,
   "metadata": {
    "colab": {
     "base_uri": "https://localhost:8080/",
     "height": 34
    },
    "colab_type": "code",
    "id": "7KOBfQFLVQ3i",
    "outputId": "b20ba39a-b612-4d18-8934-223015266130"
   },
   "outputs": [],
   "source": [
    "start=time.time()\n",
    "with open('/Users/seunghwanlim/Downloads/six-degrees-of-separation-in-twitter-master/twitter_friends.csv', 'r') as infile:\n",
    "    reader = csv.reader(infile)\n",
    "    count=-1\n",
    "    \n",
    "    for row in reader:\n",
    "        #print(row[:7])\n",
    "        count += 1\n",
    "        if count == 0:\n",
    "            continue\n",
    "        id=row[0]\n",
    "        #print(count)\n",
    "        users[count-1][0]=id\n",
    "        screenName=row[1]\n",
    "        \n",
    "        many_tags=hasMoreTags(row[2])\n",
    "        \n",
    "        offset=0\n",
    "        #print('{} originally'.format(row[2]))\n",
    "        #print(row[3])\n",
    "        if many_tags:\n",
    "            this_tags=[]\n",
    "            for j in range(20):\n",
    "                this_tags.append(row[2+j].strip('[]').strip(''))\n",
    "                if row[2+j][-1]==']':\n",
    "                    break\n",
    "            #print('{} many tags'.format(this_tags))\n",
    "            user_tags[id]=this_tags\n",
    "            offset=len(this_tags)-1\n",
    "            #print(offset)\n",
    "        else:\n",
    "            user_tags[id]=row[2].strip('[]').strip('')\n",
    "            \n",
    "        #followersCount=row[4]\n",
    "        #print(offset)\n",
    "        friendsCount=int(row[5+offset])\n",
    "        #print(row[5+offset])\n",
    "        max_friends=max(max_friends,friendsCount)\n",
    "        min_friends=min(min_friends,friendsCount)\n",
    "        friends=row[9+offset:]\n",
    "        friends[0]=friends[0].strip('[]')\n",
    "        friends[-1]=friends[-1].strip('[]')\n",
    "        friends=[i.replace('\"', '') for i in friends]\n",
    "        friends=[i.strip() for i in friends]\n",
    "        user_friends[id]=friends\n",
    "        #print(\"{} : {}\".format(count, friends))\n",
    "end=time.time()\n",
    "print('{} seconds'.format(end-start))"
   ]
  },
  {
   "cell_type": "code",
   "execution_count": null,
   "metadata": {
    "colab": {
     "base_uri": "https://localhost:8080/",
     "height": 50
    },
    "colab_type": "code",
    "id": "a4w4h74qVQ3p",
    "outputId": "cd635868-f2d4-4ffb-f1e9-2709c764f863"
   },
   "outputs": [],
   "source": [
    "print(max_friends)\n",
    "print(min_friends)"
   ]
  },
  {
   "cell_type": "markdown",
   "metadata": {
    "colab_type": "text",
    "id": "tImUEzkpMNhp"
   },
   "source": [
    "# Generate/Read all tags"
   ]
  },
  {
   "cell_type": "code",
   "execution_count": null,
   "metadata": {
    "colab": {},
    "colab_type": "code",
    "id": "rAW0d4reYV4k"
   },
   "outputs": [],
   "source": [
    "import re\n",
    "def remove_hashtag(raw_str):\n",
    "    return ' '.join(re.sub(\"(@[A-Za-z0-9]+)|([^0-9A-Za-z \\t])|(\\w+:\\/\\/\\S+)\",\" \",raw_str).split())"
   ]
  },
  {
   "cell_type": "code",
   "execution_count": null,
   "metadata": {
    "colab": {},
    "colab_type": "code",
    "id": "fzjy-L4fXu9z"
   },
   "outputs": [],
   "source": [
    "try:\n",
    "    all_tags=pd.read_csv('../six-degrees-of-separation-in-twitter-master/all_tags_saved.csv')\n",
    "except:\n",
    "    all_tags=set()\n",
    "\n",
    "    for u in user_tags:\n",
    "        tags=user_tags[u]\n",
    "\n",
    "        if type(tags) == str:\n",
    "            all_tags.add(remove_hashtag(tags))\n",
    "        else:\n",
    "            for tag in tags:\n",
    "                all_tags.add(remove_hashtag(tag))\n",
    "\n",
    "    pd.DataFrame(list(all_tags)).to_csv('../six-degrees-of-separation-in-twitter-master/all_tags_saved.csv')"
   ]
  },
  {
   "cell_type": "code",
   "execution_count": null,
   "metadata": {
    "colab": {
     "base_uri": "https://localhost:8080/",
     "height": 34
    },
    "colab_type": "code",
    "id": "_tZh3y96VQ3-",
    "outputId": "728d54c5-fb46-41fc-ef91-18c3e46c24f5"
   },
   "outputs": [],
   "source": [
    "len(all_tags)"
   ]
  },
  {
   "cell_type": "markdown",
   "metadata": {
    "colab_type": "text",
    "id": "x6Y6W97SNYH9"
   },
   "source": [
    "# Generate Tag: User dict"
   ]
  },
  {
   "cell_type": "code",
   "execution_count": null,
   "metadata": {
    "colab": {},
    "colab_type": "code",
    "id": "HI8RpY07ZmJp"
   },
   "outputs": [],
   "source": [
    "tag_users={}"
   ]
  },
  {
   "cell_type": "code",
   "execution_count": null,
   "metadata": {
    "colab": {},
    "colab_type": "code",
    "id": "V2Mj0jB7V1QX"
   },
   "outputs": [],
   "source": [
    "for u in user_tags:\n",
    "    tags=user_tags[u]\n",
    "    if type(tags)==str:\n",
    "        normalized_tag=remove_hashtag(tags)\n",
    "        if normalized_tag in tag_users:\n",
    "            cur_tags=tag_users[normalized_tag]\n",
    "            cur_tags.append(u)\n",
    "            tag_users[normalized_tag]=cur_tags\n",
    "        else:\n",
    "            cur_tags=[]\n",
    "            cur_tags.append(u)\n",
    "            tag_users[normalized_tag]=cur_tags\n",
    "    else:\n",
    "        for tag in tags:\n",
    "            normalized_tag=remove_hashtag(tag)\n",
    "            if normalized_tag in tag_users:\n",
    "                cur_tags=tag_users[normalized_tag]\n",
    "                cur_tags.append(u)\n",
    "                tag_users[normalized_tag]=cur_tags\n",
    "            else:\n",
    "                cur_tags=[]\n",
    "                cur_tags.append(u)\n",
    "                tag_users[normalized_tag]=cur_tags"
   ]
  },
  {
   "cell_type": "code",
   "execution_count": null,
   "metadata": {
    "colab": {
     "base_uri": "https://localhost:8080/",
     "height": 34
    },
    "colab_type": "code",
    "id": "amDzxx0Zao5P",
    "outputId": "ccc414bb-4b29-4933-f667-2cf9bd74bc86"
   },
   "outputs": [],
   "source": [
    "len(tag_users)"
   ]
  },
  {
   "cell_type": "code",
   "execution_count": null,
   "metadata": {
    "colab": {},
    "colab_type": "code",
    "id": "L6WNcpKSYxQY"
   },
   "outputs": [],
   "source": [
    "x=list(tag_users.keys())\n",
    "y=[len(item) for item in tag_users.values()]\n",
    "\n",
    "tag_nums=pd.DataFrame({'tags':x,'num':y})\n",
    "\n",
    "# Sort by the num of each tag\n",
    "sorted_tag_nums=tag_nums.sort_values(by=['num'], ascending=[0])"
   ]
  },
  {
   "cell_type": "code",
   "execution_count": null,
   "metadata": {
    "colab": {
     "base_uri": "https://localhost:8080/",
     "height": 343
    },
    "colab_type": "code",
    "id": "LztsFmvNrCcK",
    "outputId": "20e19460-ca69-4d16-f6d2-8f002089bd94"
   },
   "outputs": [],
   "source": [
    "sorted_tag_nums[:10]"
   ]
  },
  {
   "cell_type": "code",
   "execution_count": null,
   "metadata": {
    "colab": {},
    "colab_type": "code",
    "id": "Ebhm8JTIqifi"
   },
   "outputs": [],
   "source": [
    "sorted_x=sorted_tag_nums['tags'][:5]\n",
    "sorted_y=sorted_tag_nums['num'][:5]"
   ]
  },
  {
   "cell_type": "code",
   "execution_count": null,
   "metadata": {
    "colab": {
     "base_uri": "https://localhost:8080/",
     "height": 101
    },
    "colab_type": "code",
    "id": "KZG2vC9ozADy",
    "outputId": "d1326337-8d8c-4bc8-86a4-20f0652205cb"
   },
   "outputs": [],
   "source": [
    "list(sorted_x)"
   ]
  },
  {
   "cell_type": "code",
   "execution_count": null,
   "metadata": {
    "colab": {
     "base_uri": "https://localhost:8080/",
     "height": 353
    },
    "colab_type": "code",
    "id": "EpfFLQl8U9GS",
    "outputId": "abce7893-b762-45bc-e870-3ad597922246"
   },
   "outputs": [],
   "source": [
    "plt.figure(figsize=(10,5))\n",
    "sns.barplot(sorted_x, sorted_y, alpha=0.8)\n",
    "\n",
    "plt.title('Tag Users Distribution')\n",
    "\n",
    "plt.ylabel('Users count', fontsize=12)\n",
    "plt.xlabel('Tag', fontsize=12)\n",
    "plt.plot(sorted_x, sorted_y,'go-', label='line 1', linewidth=2)\n",
    "\n",
    "plt.savefig('../six-degrees-of-separation-in-twitter-master/tag_users.png')"
   ]
  },
  {
   "cell_type": "code",
   "execution_count": null,
   "metadata": {
    "colab": {
     "base_uri": "https://localhost:8080/",
     "height": 455
    },
    "colab_type": "code",
    "id": "lCJlJowYbw3T",
    "outputId": "64cd21c0-343c-45fa-e2c2-6c6044180a3d"
   },
   "outputs": [],
   "source": [
    "fig, axes = plt.subplots(figsize=(7,5), dpi=100)\n",
    "\n",
    "plt.plot(sorted_x, sorted_y,'go-', label='line 1', linewidth=2)"
   ]
  },
  {
   "cell_type": "code",
   "execution_count": null,
   "metadata": {
    "colab": {
     "base_uri": "https://localhost:8080/",
     "height": 34
    },
    "colab_type": "code",
    "id": "8dE8kriDVQ4C",
    "outputId": "59127437-cf46-42ae-f7c8-8a6f65a31950"
   },
   "outputs": [],
   "source": [
    "# Generate the nodes and edges\n",
    "nodes=user_friends.keys()\n",
    "len(nodes)"
   ]
  },
  {
   "cell_type": "code",
   "execution_count": null,
   "metadata": {
    "colab": {},
    "colab_type": "code",
    "id": "XnuHs_RLoiWj"
   },
   "outputs": [],
   "source": [
    "node_list=list(nodes)\n",
    "with open('../six-degrees-of-separation-in-twitter-master/nodelist.txt', 'w') as filehandle:\n",
    "    for listitem in node_list:\n",
    "        filehandle.write('%s\\n' % listitem)"
   ]
  },
  {
   "cell_type": "code",
   "execution_count": null,
   "metadata": {},
   "outputs": [],
   "source": [
    "edges = [(uid,fid) for uid in user_friends for fid in user_friends[uid]]"
   ]
  },
  {
   "cell_type": "code",
   "execution_count": null,
   "metadata": {},
   "outputs": [],
   "source": [
    "edge_list=list(edges)\n",
    "with open('../six-degrees-of-separation-in-twitter-master/edgelist.txt', 'w') as filehandle:\n",
    "    for listitem in edge_list:\n",
    "        filehandle.write('%s %s\\n' % listitem)"
   ]
  },
  {
   "cell_type": "code",
   "execution_count": null,
   "metadata": {},
   "outputs": [],
   "source": [
    "G = nx.read_edgelist('edgelist.txt',create_using=nx.Graph(),nodetype=int)"
   ]
  },
  {
   "cell_type": "code",
   "execution_count": null,
   "metadata": {
    "colab": {},
    "colab_type": "code",
    "id": "-1vkEqhEr6Pl"
   },
   "outputs": [],
   "source": [
    "def calculate_shortest_dist(this_tag, k_nodes):\n",
    "    count=1\n",
    "    size_k=len(k_nodes)\n",
    "    for index_a in range(size_k):\n",
    "\n",
    "        no_paths=[]\n",
    "        shortest_path_list=[]\n",
    "        shortest_dist=[]\n",
    "\n",
    "        for index_b in range(index_a+1, size_k):\n",
    "            a=k_nodes[index_a]\n",
    "            b=k_nodes[index_b]\n",
    "\n",
    "            try:\n",
    "                s_path=nx.shortest_path_length(G,source=a,target=b)\n",
    "                shortest_path_list.append((a,b,s_path))\n",
    "                shortest_dist.append(s_path)\n",
    "\n",
    "            except:\n",
    "                no_paths.append((a,b))\n",
    "\n",
    "        with open('../six-degrees-of-separation-in-twitter-master/%s_shortest_path.txt'%this_tag,'a+') as fp:\n",
    "            fp.write('\\n'.join('%s %s %s'%x for x in shortest_path_list))\n",
    "\n",
    "        with open('../six-degrees-of-separation-in-twitter-master/%s_shortest_path.txt'%this_tag,'a+') as fp:\n",
    "            fp.write('\\n')\n",
    "\n",
    "        with open('../six-degrees-of-separation-in-twitter-master/%s_no_path.txt'%this_tag,'a+') as fp:\n",
    "            fp.write('\\n'.join('%s %s'%x for x in no_paths))\n",
    "\n",
    "        with open('../six-degrees-of-separation-in-twitter-master/%s_no_path.txt'%this_tag,'a+') as fp:\n",
    "            fp.write('\\n')\n",
    "  \n",
    "        with open('../six-degrees-of-separation-in-twitter-master/%s_shortest_dist.txt'%this_tag,'a+') as fp:\n",
    "            fp.write('\\n'.join('%s'%x for x in shortest_dist))\n",
    "\n",
    "        with open('../six-degrees-of-separation-in-twitter-master/%s_shortest_dist.txt'%this_tag,'a+') as fp:\n",
    "            fp.write('\\n')\n",
    "\n",
    "        #print('Finished {} node'.format(count))\n",
    "        count+=1"
   ]
  },
  {
   "cell_type": "markdown",
   "metadata": {
    "colab_type": "text",
    "id": "jBl46hPJ2lH4"
   },
   "source": [
    "# Calculate Six Degrees under the same tag"
   ]
  },
  {
   "cell_type": "code",
   "execution_count": null,
   "metadata": {
    "colab": {},
    "colab_type": "code",
    "id": "vmwIIDoglMuM"
   },
   "outputs": [],
   "source": [
    "top_tags=list(sorted_x)\n",
    "\n",
    "# Sample 200 user from top 5 tags to calculate 6 degree\n",
    "k=200\n",
    "try:\n",
    "\n",
    "    f=open('../six-degrees-of-separation-in-twitter-master/%s_shortest_path.txt'%top_tags[0])\n",
    "\n",
    "except IOError:\n",
    "# Calculate\n",
    "    for this_tag in top_tags:\n",
    "        this_tag_users=set(tag_users[this_tag])\n",
    "        this_tag_users_list=list(this_tag_users)\n",
    "        k_nodes=set() #should not choose the same node twice\n",
    "\n",
    "        while len(k_nodes)<k:\n",
    "            n1=random.choice(this_tag_users_list)\n",
    "            if n1 not in k_nodes:\n",
    "                k_nodes.add(n1)\n",
    "        #print(len(k_nodes))\n",
    "        calculate_shortest_dist(this_tag,list(k_nodes))"
   ]
  },
  {
   "cell_type": "markdown",
   "metadata": {
    "colab_type": "text",
    "id": "BEixjBwU17E-"
   },
   "source": [
    "# Analyze top 5 tags"
   ]
  },
  {
   "cell_type": "code",
   "execution_count": null,
   "metadata": {
    "colab": {},
    "colab_type": "code",
    "id": "bkU4gU8StxDj"
   },
   "outputs": [],
   "source": [
    "try:\n",
    "    \n",
    "    f=open('../six-degrees-of-separation-in-twitter-master/%s_shortest_dist.txt'%top_tags[0])\n",
    "    \n",
    "except IOError: \n",
    "    for this_tag in top_tags:\n",
    "\n",
    "        shortest_dist_list = pd.read_csv('../six-degrees-of-separation-in-twitter-master/%s_shortest_dist.txt'%this_tag, names=['dist'], sep=\" \", header=None)\n",
    "\n",
    "        shortest_dist_list['dist'].value_counts().to_csv('../six-degrees-of-separation-in-twitter-master/%s_info.txt'%this_tag,sep=':')\n",
    "        shortest_dist_list.describe().to_csv('../six-degrees-of-separation-in-twitter-master/%s_info.txt'%this_tag, mode='a',sep=':')"
   ]
  },
  {
   "cell_type": "code",
   "execution_count": null,
   "metadata": {},
   "outputs": [],
   "source": [
    "# Calculate Six Degree under the\n",
    "# Step 1: Get the intersaction\n",
    "top_tags=list(sorted_x)\n",
    "\n",
    "# Sample 200 user from top 5 tags to calculate 6 degree\n",
    "k=200\n",
    "\n",
    "\n",
    "for this_tag in top_tags:\n",
    "  this_tag_users=set(tag_users[this_tag])\n",
    "  this_tag_users_list=list(this_tag_users)\n",
    "  k_nodes=[]\n",
    "\n",
    "  for i in range(k):\n",
    "    n1=random.choice(this_tag_users_list)\n",
    "    k_nodes.append(n1)\n",
    "\n",
    "  calculate_shortest_dist(this_tag,list(k_nodes))\n",
    "\n",
    "# Analyze top 5 tag\n",
    "for this_tag in top_tags:\n",
    "\n",
    "   shortest_dist_list = pd.read_csv('../six-degrees-of-separation-in-twitter-master/%s_shortest_dist.txt'%this_tag, names=['dist'], sep=\" \", header=None)\n",
    "   print(this_tag)\n",
    "   print(shortest_dist_list['dist'].value_counts())\n",
    "   print(shortest_dist_list.describe())"
   ]
  },
  {
   "cell_type": "markdown",
   "metadata": {
    "colab_type": "text",
    "id": "iW1ulZrPAqq7"
   },
   "source": [
    "# Visualize the results"
   ]
  },
  {
   "cell_type": "code",
   "execution_count": null,
   "metadata": {
    "colab": {
     "base_uri": "https://localhost:8080/",
     "height": 1000
    },
    "colab_type": "code",
    "id": "WsXGVp_eAp4S",
    "outputId": "c4244c72-4982-4f5b-ee4a-68e5779b1de1"
   },
   "outputs": [],
   "source": [
    "for this_tag in top_tags:\n",
    "    shortest_dist_tag_list=pd.read_csv('../six-degrees-of-separation-in-twitter-master/%s_shortest_dist.txt'%this_tag,names=['dist'],sep=\" \",header=None)\n",
    "\n",
    "    sd_count=shortest_dist_tag_list['dist'].value_counts()\n",
    "    \n",
    "    plt.figure(figsize=(10,5))\n",
    "    sns.barplot(sd_count.index, sd_count.values, alpha=0.8)\n",
    "\n",
    "    plt.title('%s'%this_tag)\n",
    "    plt.ylabel('Pair count', fontsize=12)\n",
    "    plt.xlabel('Shortest Distance', fontsize=12)\n",
    "    plt.show()\n",
    "    plt.savefig('../six-degrees-of-separation-in-twitter-master/%s.png'%this_tag)"
   ]
  },
  {
   "cell_type": "markdown",
   "metadata": {
    "colab_type": "text",
    "id": "oWU2TA5h2r2T"
   },
   "source": [
    "# Read the graph"
   ]
  },
  {
   "cell_type": "code",
   "execution_count": null,
   "metadata": {
    "colab": {
     "base_uri": "https://localhost:8080/",
     "height": 34
    },
    "colab_type": "code",
    "id": "tFrWbs2jVQ4n",
    "outputId": "bc89ca5a-95b5-4721-9f06-b1b29c02e20a"
   },
   "outputs": [],
   "source": [
    "begin=time.time()\n",
    "try:\n",
    "  # nx.write_gpickle(G,\"test.gpickle\")\n",
    "  # Read from pickle\n",
    "  G=nx.read_gpickle(\"../six-degrees-of-separation-in-twitter-master/test.gpickle\")\n",
    "  end=time.time()\n",
    "  print('Spent {} in reading graph'.format(end-begin))\n",
    "except:\n",
    "  G=nx.Graph()\n",
    "  G.add_edges_from(edges)\n",
    "  end=time.time()\n",
    "  print('{} seconds'.format(end-start))"
   ]
  },
  {
   "cell_type": "code",
   "execution_count": null,
   "metadata": {
    "colab": {
     "base_uri": "https://localhost:8080/",
     "height": 101
    },
    "colab_type": "code",
    "id": "N9Dg1q6H2u7B",
    "outputId": "1c04cee0-0dbf-43ca-c5ca-f09bd00e04ed"
   },
   "outputs": [],
   "source": [
    "########### Print the summary of the graph ###########\n",
    "print(nx.info(G))"
   ]
  },
  {
   "cell_type": "markdown",
   "metadata": {
    "colab_type": "text",
    "id": "k2Cf1btt2Cos"
   },
   "source": [
    "# (Without Tags) Calculate the shortest path"
   ]
  },
  {
   "cell_type": "code",
   "execution_count": null,
   "metadata": {
    "colab": {},
    "colab_type": "code",
    "id": "M4SFcgLrlyus"
   },
   "outputs": [],
   "source": [
    "#### Only Need to Calculate Once, more than 10 hours ####\n",
    "#################### Select k nodes #####################\n",
    "node_list=[line.rstrip('\\n') for line in open('../six-degrees-of-separation-in-twitter-master/nodelist.txt')]\n",
    "\n",
    "k=5000\n",
    "k_nodes=set()\n",
    "\n",
    "while len(k_nodes)<k:\n",
    "    n1=random.choice(node_list)\n",
    "    if n1 not in k_nodes:\n",
    "        k_nodes.add(n1)\n",
    "\n",
    "print('Finished sampling {} nodes'.format(k))\n",
    "\n",
    "k_nodes=list(k_nodes)\n",
    "\n",
    "count=1\n",
    "pairs_count=0\n",
    "\n",
    "for index_a in range(k):\n",
    "    no_paths=[]\n",
    "    shortest_path_list=[]\n",
    "    shortest_dist=[]\n",
    "\n",
    "    for index_b in range(index_a+1,k):\n",
    "        pairs_count+=1\n",
    "        a=k_nodes[index_a]\n",
    "        b=k_nodes[index_b]\n",
    "\n",
    "        try:\n",
    "            s_path=nx.shortest_path_length(G,a,b)\n",
    "            shortest_path_list.append((a,b,s_path))\n",
    "            shortest_dist.append(s_path)\n",
    "\n",
    "        except:\n",
    "            no_paths.append((a,b))\n",
    "\n",
    "    with open('../six-degrees-of-separation-in-twitter-master/real_%s_shortest_path.txt'%k,'a+') as fp:\n",
    "        fp.write('\\n'.join('%s %s %s'%x for x in shortest_path_list))\n",
    "\n",
    "    with open('../six-degrees-of-separation-in-twitter-master/real_%s_no_path.txt'%k,'a+') as fp:\n",
    "        fp.write('\\n'.join('%s %s'%x for x in no_paths))\n",
    "\n",
    "    with open('../six-degrees-of-separation-in-twitter-master/real_%s_shortest_dist.txt'%k,'a+') as fp:\n",
    "        fp.write('\\n'.join('%s'%x for x in shortest_dist))\n",
    "\n",
    "    print('Finished {} node'.format(count))\n",
    "    count+=1"
   ]
  },
  {
   "cell_type": "markdown",
   "metadata": {
    "colab_type": "text",
    "id": "9ybdgmvl2Scs"
   },
   "source": [
    "# (Withou Tags) Analyze the data 5000 users"
   ]
  },
  {
   "cell_type": "code",
   "execution_count": null,
   "metadata": {
    "colab": {},
    "colab_type": "code",
    "id": "LXo8Dtb2zgoR"
   },
   "outputs": [],
   "source": [
    "shortest_dist_list = pd.read_csv('../six-degrees-of-separation-in-twitter-master/5000_shortest_dist.txt', names=['dist'], sep=\" \", header=None)"
   ]
  },
  {
   "cell_type": "code",
   "execution_count": null,
   "metadata": {
    "colab": {
     "base_uri": "https://localhost:8080/",
     "height": 170
    },
    "colab_type": "code",
    "id": "mMMTiEa4zpA5",
    "outputId": "b2f95da5-2254-4b2f-9044-295b38f661b1"
   },
   "outputs": [],
   "source": [
    "shortest_dist_list['dist'].value_counts()"
   ]
  },
  {
   "cell_type": "code",
   "execution_count": null,
   "metadata": {
    "colab": {
     "base_uri": "https://localhost:8080/",
     "height": 34
    },
    "colab_type": "code",
    "id": "-yNJl38h9xAL",
    "outputId": "347bcefe-356e-4d8c-e803-906e84115079"
   },
   "outputs": [],
   "source": [
    "shortest_dist_list['dist'].count()"
   ]
  },
  {
   "cell_type": "code",
   "execution_count": null,
   "metadata": {
    "colab": {
     "base_uri": "https://localhost:8080/",
     "height": 353
    },
    "colab_type": "code",
    "id": "eNekbZhRrMAl",
    "outputId": "142ab60c-afb8-4db0-d977-b27da0ee4caf"
   },
   "outputs": [],
   "source": [
    "sd_count=shortest_dist_list['dist'].value_counts()\n",
    "\n",
    "plt.figure(figsize=(10,5))\n",
    "sns.barplot(sd_count.index, sd_count.values, alpha=0.8)\n",
    "\n",
    "plt.title('5000 Users Degrees Distribution')\n",
    "plt.ylabel('Pair count', fontsize=12)\n",
    "plt.xlabel('Shortest Distance', fontsize=12)\n",
    "plt.savefig('/content/drive/My Drive/network/5000_users.png')"
   ]
  },
  {
   "cell_type": "code",
   "execution_count": null,
   "metadata": {
    "colab": {
     "base_uri": "https://localhost:8080/",
     "height": 34
    },
    "colab_type": "code",
    "id": "bmaIsG5IsYOU",
    "outputId": "f1168c4a-c39d-4bb0-8ae7-a81da78b3904"
   },
   "outputs": [],
   "source": [
    "degree_greater_than_6=sum(sd_count.loc[sd_count.index>6].values)\n",
    "print(\"Pairs that have degree greater than 6 has {}\".format(degree_greater_than_6))"
   ]
  },
  {
   "cell_type": "code",
   "execution_count": null,
   "metadata": {
    "colab": {
     "base_uri": "https://localhost:8080/",
     "height": 34
    },
    "colab_type": "code",
    "id": "DdOpRlxytwF1",
    "outputId": "259ff72c-4bb4-47dc-e9ab-eebc29abb380"
   },
   "outputs": [],
   "source": [
    "degree_smaller_than_6=sum(sd_count.loc[sd_count.index<6].values)\n",
    "print(\"Pairs that have degree smaller than 6 has {}\".format(degree_smaller_than_6))"
   ]
  },
  {
   "cell_type": "code",
   "execution_count": null,
   "metadata": {
    "colab": {
     "base_uri": "https://localhost:8080/",
     "height": 34
    },
    "colab_type": "code",
    "id": "DPUNDTSfuQqL",
    "outputId": "d7b8ae6a-9ded-43cb-8c69-c45d2fc47502"
   },
   "outputs": [],
   "source": [
    "degree_equal_to_6=sum(sd_count.loc[sd_count.index==6].values)\n",
    "print(\"Pairs that have degree equal to 6 has {}\".format(degree_equal_to_6))"
   ]
  },
  {
   "cell_type": "code",
   "execution_count": null,
   "metadata": {
    "colab": {
     "base_uri": "https://localhost:8080/",
     "height": 353
    },
    "colab_type": "code",
    "id": "GKkh9aKAunx_",
    "outputId": "8041fc17-b252-43d1-9e80-48b1ce3532c3"
   },
   "outputs": [],
   "source": [
    "# Visualization\n",
    "x_dist=['Smaller than 6', 'Equal to 6', 'Larger than 6']\n",
    "y_count=[degree_smaller_than_6, degree_equal_to_6 ,degree_greater_than_6]\n",
    "\n",
    "plt.figure(figsize=(10,5))\n",
    "\n",
    "sns.barplot(x_dist, y_count, alpha=0.8)\n",
    "\n",
    "plt.title('Six Degrees Distribution')\n",
    "\n",
    "plt.ylabel('Pair count', fontsize=12)\n",
    "plt.xlabel('Shortest Distance', fontsize=12)\n",
    "plt.savefig('/content/drive/My Drive/network/six_degrees_distribution.png')"
   ]
  },
  {
   "cell_type": "code",
   "execution_count": null,
   "metadata": {
    "colab": {
     "base_uri": "https://localhost:8080/",
     "height": 284
    },
    "colab_type": "code",
    "id": "-bWsB48jzsKI",
    "outputId": "5bfc974a-8251-43b3-8c0c-772f155c7d2d"
   },
   "outputs": [],
   "source": [
    "shortest_dist_list.describe()"
   ]
  },
  {
   "cell_type": "markdown",
   "metadata": {
    "colab_type": "text",
    "id": "WDyVZVVcaXjs"
   },
   "source": [
    "# (Withou Tags) Analyze the data 10000 users"
   ]
  },
  {
   "cell_type": "code",
   "execution_count": null,
   "metadata": {
    "colab": {},
    "colab_type": "code",
    "id": "I2QJhzNNaXjz"
   },
   "outputs": [],
   "source": [
    "shortest_dist_list = pd.read_csv('/content/drive/My Drive/network/10000_shortest_dist.txt', names=['dist'], sep=\" \", header=None)"
   ]
  },
  {
   "cell_type": "code",
   "execution_count": null,
   "metadata": {
    "colab": {
     "base_uri": "https://localhost:8080/",
     "height": 170
    },
    "colab_type": "code",
    "id": "JXsPNYLraXj2",
    "outputId": "968ccfbb-b663-4412-90f8-0a110dd95ae2"
   },
   "outputs": [],
   "source": [
    "shortest_dist_list['dist'].value_counts()"
   ]
  },
  {
   "cell_type": "code",
   "execution_count": null,
   "metadata": {
    "colab": {
     "base_uri": "https://localhost:8080/",
     "height": 34
    },
    "colab_type": "code",
    "id": "HinF9Gs3aXj6",
    "outputId": "866ede57-b475-4184-c1eb-a0e6941f1971"
   },
   "outputs": [],
   "source": [
    "shortest_dist_list['dist'].count()"
   ]
  },
  {
   "cell_type": "code",
   "execution_count": null,
   "metadata": {
    "colab": {
     "base_uri": "https://localhost:8080/",
     "height": 353
    },
    "colab_type": "code",
    "id": "J9gcrt6AaXj8",
    "outputId": "b5fa7f9d-4e5e-415f-9bb9-8c98f18d503c"
   },
   "outputs": [],
   "source": [
    "sd_count=shortest_dist_list['dist'].value_counts()\n",
    "\n",
    "plt.figure(figsize=(10,5))\n",
    "sns.barplot(sd_count.index, sd_count.values, alpha=0.8)\n",
    "\n",
    "plt.title('10000 Users Degrees Distribution')\n",
    "plt.ylabel('Pair count', fontsize=12)\n",
    "plt.xlabel('Shortest Distance', fontsize=12)\n",
    "plt.savefig('/content/drive/My Drive/network/10000_users.png')"
   ]
  },
  {
   "cell_type": "code",
   "execution_count": null,
   "metadata": {
    "colab": {
     "base_uri": "https://localhost:8080/",
     "height": 34
    },
    "colab_type": "code",
    "id": "UidHsx5PaXj-",
    "outputId": "6d5c9a3e-6209-4ecb-8f04-720d7adcac2b"
   },
   "outputs": [],
   "source": [
    "degree_greater_than_6=sum(sd_count.loc[sd_count.index>6].values)\n",
    "print(\"Pairs that have degree greater than 6 has {}\".format(degree_greater_than_6))"
   ]
  },
  {
   "cell_type": "code",
   "execution_count": null,
   "metadata": {
    "colab": {
     "base_uri": "https://localhost:8080/",
     "height": 34
    },
    "colab_type": "code",
    "id": "WpuSVFkraXkA",
    "outputId": "135fb37a-1299-4fca-8720-4201f81b3929"
   },
   "outputs": [],
   "source": [
    "degree_smaller_than_6=sum(sd_count.loc[sd_count.index<6].values)\n",
    "print(\"Pairs that have degree smaller than 6 has {}\".format(degree_smaller_than_6))"
   ]
  },
  {
   "cell_type": "code",
   "execution_count": null,
   "metadata": {
    "colab": {
     "base_uri": "https://localhost:8080/",
     "height": 34
    },
    "colab_type": "code",
    "id": "fFnI_LE5aXkD",
    "outputId": "1610c36d-d50d-4594-b472-ac4ab560cc45"
   },
   "outputs": [],
   "source": [
    "degree_equal_to_6=sum(sd_count.loc[sd_count.index==6].values)\n",
    "print(\"Pairs that have degree equal to 6 has {}\".format(degree_equal_to_6))"
   ]
  },
  {
   "cell_type": "code",
   "execution_count": null,
   "metadata": {
    "colab": {
     "base_uri": "https://localhost:8080/",
     "height": 353
    },
    "colab_type": "code",
    "id": "somyOcPCaXkF",
    "outputId": "aa40aae9-a984-47ad-98c6-5d08d7611f93"
   },
   "outputs": [],
   "source": [
    "# Visualization\n",
    "x_dist=['Smaller than 6', 'Equal to 6', 'Larger than 6']\n",
    "y_count=[degree_smaller_than_6, degree_equal_to_6 ,degree_greater_than_6]\n",
    "\n",
    "plt.figure(figsize=(10,5))\n",
    "\n",
    "sns.barplot(x_dist, y_count, alpha=0.8)\n",
    "\n",
    "plt.title('Six Degrees Distribution')\n",
    "\n",
    "plt.ylabel('Pair count', fontsize=12)\n",
    "plt.xlabel('Shortest Distance', fontsize=12)\n",
    "plt.savefig('/content/drive/My Drive/network/six_degrees_distribution_10000.png')"
   ]
  },
  {
   "cell_type": "code",
   "execution_count": null,
   "metadata": {
    "colab": {
     "base_uri": "https://localhost:8080/",
     "height": 297
    },
    "colab_type": "code",
    "id": "AN8OHT8GaXkH",
    "outputId": "88f06d46-d5e8-4107-f155-7ccd9dfba240"
   },
   "outputs": [],
   "source": [
    "shortest_dist_list.describe()"
   ]
  }
 ],
 "metadata": {
  "colab": {
   "machine_shape": "hm",
   "name": "network_project.ipynb",
   "provenance": []
  },
  "kernelspec": {
   "display_name": "Python 3",
   "language": "python",
   "name": "python3"
  },
  "language_info": {
   "codemirror_mode": {
    "name": "ipython",
    "version": 3
   },
   "file_extension": ".py",
   "mimetype": "text/x-python",
   "name": "python",
   "nbconvert_exporter": "python",
   "pygments_lexer": "ipython3",
   "version": "3.7.9"
  }
 },
 "nbformat": 4,
 "nbformat_minor": 1
}
